{
  "nbformat": 4,
  "nbformat_minor": 0,
  "metadata": {
    "colab": {
      "provenance": [],
      "authorship_tag": "ABX9TyPSx4SrP7Ce5ef9CXCMld/0",
      "include_colab_link": true
    },
    "kernelspec": {
      "name": "python3",
      "display_name": "Python 3"
    },
    "language_info": {
      "name": "python"
    }
  },
  "cells": [
    {
      "cell_type": "markdown",
      "metadata": {
        "id": "view-in-github",
        "colab_type": "text"
      },
      "source": [
        "<a href=\"https://colab.research.google.com/github/pbm21sdp/bia/blob/main/lab7.ipynb\" target=\"_parent\"><img src=\"https://colab.research.google.com/assets/colab-badge.svg\" alt=\"Open In Colab\"/></a>"
      ]
    },
    {
      "cell_type": "markdown",
      "source": [
        "Exercitiul 1"
      ],
      "metadata": {
        "id": "i7_38CwMLRKf"
      }
    },
    {
      "cell_type": "code",
      "execution_count": 11,
      "metadata": {
        "colab": {
          "base_uri": "https://localhost:8080/"
        },
        "id": "3aVZkIXoLPXm",
        "outputId": "4acd0ccb-f990-4974-d161-892be19e4216"
      },
      "outputs": [
        {
          "output_type": "stream",
          "name": "stdout",
          "text": [
            "x =  tensor([0.4669, 0.6496, 0.9555, 0.5435])\n",
            "torch.Size([4])\n",
            "y =  tensor([[0.5806, 0.8785, 0.6272, 0.6444]])\n",
            "torch.Size([1, 4])\n",
            "z =  tensor([[[0.9401, 0.1626, 0.2321, 0.4038]],\n",
            "\n",
            "        [[0.5142, 0.3980, 0.6606, 0.1812]],\n",
            "\n",
            "        [[0.0584, 0.7943, 0.9603, 0.9503]]])\n",
            "torch.Size([3, 1, 4])\n"
          ]
        }
      ],
      "source": [
        "import torch\n",
        "\n",
        "x = torch.rand(4)\n",
        "print(\"x = \", x)\n",
        "print(x.shape)\n",
        "\n",
        "y = torch.rand(1, 4)\n",
        "print(\"y = \", y)\n",
        "print(y.shape)\n",
        "\n",
        "z = torch.rand(3, 1, 4)\n",
        "print(\"z = \", z)\n",
        "print(z.shape)\n"
      ]
    },
    {
      "cell_type": "markdown",
      "source": [
        "Exercitiul 2"
      ],
      "metadata": {
        "id": "5R1OnfdfMPa1"
      }
    },
    {
      "cell_type": "code",
      "source": [
        "import torch\n",
        "\n",
        "x = torch.tensor([-10.0, 10.0, 8.0], requires_grad=True)\n",
        "\n",
        "f= 1 / (1 + torch.exp(-x))\n",
        "\n",
        "f.sum().backward()\n",
        "\n",
        "x.grad"
      ],
      "metadata": {
        "colab": {
          "base_uri": "https://localhost:8080/"
        },
        "id": "buI-NZWRMSol",
        "outputId": "242b9f4d-3e88-433d-8256-457975103c0c"
      },
      "execution_count": 26,
      "outputs": [
        {
          "output_type": "execute_result",
          "data": {
            "text/plain": [
              "tensor([4.5396e-05, 4.5396e-05, 3.3524e-04])"
            ]
          },
          "metadata": {},
          "execution_count": 26
        }
      ]
    },
    {
      "cell_type": "markdown",
      "source": [
        "Exercitiul 3"
      ],
      "metadata": {
        "id": "KQKSaCTTSFrn"
      }
    },
    {
      "cell_type": "code",
      "source": [
        "import torch\n",
        "\n",
        "A = torch.tensor([[1, 2, -3], [4, 5, 10]])\n",
        "print(\"A = \", A)\n",
        "B = torch.tensor([[10, 11, -2], [13, -3, 8]])\n",
        "print(\"B = \", B)\n",
        "\n",
        "# Hadamard product\n",
        "\n",
        "hadamard = A * B\n",
        "print(\"hadamard = \", hadamard)\n",
        "\n",
        "# add scalar a\n",
        "\n",
        "a = 10\n",
        "add = B + a\n",
        "print(\"add = \", add)\n",
        "\n",
        "print(\"Transpusa lui A = \", A.T)\n",
        "print(\"Transpusa lui B = \", B.T)\n",
        "\n"
      ],
      "metadata": {
        "colab": {
          "base_uri": "https://localhost:8080/"
        },
        "id": "eoDvNvuUSHpB",
        "outputId": "6850fe5e-8068-41fd-ddb5-a15b38d4ea95"
      },
      "execution_count": 37,
      "outputs": [
        {
          "output_type": "stream",
          "name": "stdout",
          "text": [
            "A =  tensor([[ 1,  2, -3],\n",
            "        [ 4,  5, 10]])\n",
            "B =  tensor([[10, 11, -2],\n",
            "        [13, -3,  8]])\n",
            "hadamard =  tensor([[ 10,  22,   6],\n",
            "        [ 52, -15,  80]])\n",
            "add =  tensor([[20, 21,  8],\n",
            "        [23,  7, 18]])\n",
            "Transpusa lui A =  tensor([[ 1,  4],\n",
            "        [ 2,  5],\n",
            "        [-3, 10]])\n",
            "Transpusa lui B =  tensor([[10, 13],\n",
            "        [11, -3],\n",
            "        [-2,  8]])\n"
          ]
        }
      ]
    },
    {
      "cell_type": "markdown",
      "source": [
        "Exercitiul 4"
      ],
      "metadata": {
        "id": "Q0nCI29VTglQ"
      }
    },
    {
      "cell_type": "code",
      "source": [
        "import torch\n",
        "\n",
        "A = torch.tensor([[1.0, 2.0, 3.0], [4.0, 5.0, 6.0]])\n",
        "print(\"A = \", A)\n",
        "\n",
        "B = torch.tensor([[10.0, 11.0], [-2.0, 0.0], [1.0, -3.0]])\n",
        "print(\"B = \", B)\n",
        "\n",
        "multiplied = A @ B\n",
        "print(\"multiplied = \", multiplied)\n",
        "\n",
        "frobenius = torch.norm(multiplied)\n",
        "print(\"Frobenius norm = \", frobenius)\n"
      ],
      "metadata": {
        "colab": {
          "base_uri": "https://localhost:8080/"
        },
        "id": "TNNQPvENTiB7",
        "outputId": "19c9be56-0652-4a40-de88-eb11024ded6f"
      },
      "execution_count": 40,
      "outputs": [
        {
          "output_type": "stream",
          "name": "stdout",
          "text": [
            "A =  tensor([[1., 2., 3.],\n",
            "        [4., 5., 6.]])\n",
            "B =  tensor([[10., 11.],\n",
            "        [-2.,  0.],\n",
            "        [ 1., -3.]])\n",
            "multiplied =  tensor([[ 9.,  2.],\n",
            "        [36., 26.]])\n",
            "Frobenius norm =  tensor(45.3542)\n"
          ]
        }
      ]
    }
  ]
}