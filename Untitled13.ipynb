{
  "nbformat": 4,
  "nbformat_minor": 0,
  "metadata": {
    "colab": {
      "provenance": [],
      "authorship_tag": "ABX9TyMgJvR72rd/RFldvimZ5c71",
      "include_colab_link": true
    },
    "kernelspec": {
      "name": "python3",
      "display_name": "Python 3"
    },
    "language_info": {
      "name": "python"
    }
  },
  "cells": [
    {
      "cell_type": "markdown",
      "metadata": {
        "id": "view-in-github",
        "colab_type": "text"
      },
      "source": [
        "<a href=\"https://colab.research.google.com/github/pbm21sdp/bia/blob/main/Untitled13.ipynb\" target=\"_parent\"><img src=\"https://colab.research.google.com/assets/colab-badge.svg\" alt=\"Open In Colab\"/></a>"
      ]
    },
    {
      "cell_type": "code",
      "execution_count": 1,
      "metadata": {
        "colab": {
          "base_uri": "https://localhost:8080/"
        },
        "id": "7ely2EP9yYTd",
        "outputId": "9ce5fe0f-df6f-4eb5-c69f-d72590eb5e7c"
      },
      "outputs": [
        {
          "output_type": "stream",
          "name": "stdout",
          "text": [
            "Training time (original features): 0.6577632427215576\n",
            "Training time (reduced features): 0.18076872825622559\n",
            "Accuracy (original features): 0.9577777777777777\n",
            "Accuracy (reduced features): 0.9533333333333334\n"
          ]
        }
      ],
      "source": [
        "import time\n",
        "import numpy as np\n",
        "from sklearn.datasets import load_digits\n",
        "from sklearn.model_selection import train_test_split\n",
        "from sklearn.svm import LinearSVC\n",
        "from sklearn.decomposition import PCA\n",
        "from sklearn.metrics import accuracy_score\n",
        "\n",
        "digits = load_digits()\n",
        "X, y = digits.data, digits.target\n",
        "\n",
        "X_train, X_test, y_train, y_test = train_test_split(X, y, test_size=0.25, random_state=42)\n",
        "\n",
        "start_time = time.time()\n",
        "svm_original = LinearSVC(C=5, random_state=42)\n",
        "svm_original.fit(X_train, y_train)\n",
        "end_time = time.time()\n",
        "training_time_original = end_time - start_time\n",
        "\n",
        "y_pred_original = svm_original.predict(X_test)\n",
        "accuracy_original = accuracy_score(y_test, y_pred_original)\n",
        "\n",
        "pca = PCA(n_components=20, random_state=42)\n",
        "X_train_reduced = pca.fit_transform(X_train)\n",
        "X_test_reduced = pca.transform(X_test)\n",
        "\n",
        "start_time = time.time()\n",
        "svm_reduced = LinearSVC(C=5, random_state=42)\n",
        "svm_reduced.fit(X_train_reduced, y_train)\n",
        "end_time = time.time()\n",
        "training_time_reduced = end_time - start_time\n",
        "\n",
        "y_pred_reduced = svm_reduced.predict(X_test_reduced)\n",
        "accuracy_reduced = accuracy_score(y_test, y_pred_reduced)\n",
        "\n",
        "print(\"Training time (original features):\", training_time_original)\n",
        "print(\"Training time (reduced features):\", training_time_reduced)\n",
        "print(\"Accuracy (original features):\", accuracy_original)\n",
        "print(\"Accuracy (reduced features):\", accuracy_reduced)"
      ]
    }
  ]
}